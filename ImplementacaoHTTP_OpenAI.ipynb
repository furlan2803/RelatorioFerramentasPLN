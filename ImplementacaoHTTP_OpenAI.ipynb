{
  "nbformat": 4,
  "nbformat_minor": 0,
  "metadata": {
    "colab": {
      "provenance": []
    },
    "kernelspec": {
      "name": "python3",
      "display_name": "Python 3"
    },
    "language_info": {
      "name": "python"
    }
  },
  "cells": [
    {
      "cell_type": "markdown",
      "source": [
        "# Estudo das ferramentas em nuvens comerciais em soluções de PLN\n",
        "\n",
        "## Giovanna Furlan Torres"
      ],
      "metadata": {
        "id": "qWdxs5qQU1RT"
      }
    },
    {
      "cell_type": "markdown",
      "source": [
        "# Setup"
      ],
      "metadata": {
        "id": "T7TKlhO7U29o"
      }
    },
    {
      "cell_type": "markdown",
      "source": [
        "Importação das bibliotecas"
      ],
      "metadata": {
        "id": "QHN5l2pfUyi9"
      }
    },
    {
      "cell_type": "code",
      "execution_count": 19,
      "metadata": {
        "id": "g2ju5VDWR4Pc"
      },
      "outputs": [],
      "source": [
        "import requests # Usada para fazer solicitações HTTP."
      ]
    },
    {
      "cell_type": "markdown",
      "source": [
        "Definição da URL da API e Insersão da chave"
      ],
      "metadata": {
        "id": "gDsGMNKEVEWl"
      }
    },
    {
      "cell_type": "code",
      "source": [
        "url = \"https://api.openai.com/v1/chat/completions\"\n",
        "\n",
        "headers = {\n",
        "    \"Authorization\": \"Bearer MINHA_CHAVE\",\n",
        "    \"Content-Type\": \"application/json\"\n",
        "}"
      ],
      "metadata": {
        "id": "Ak3hV4l5SAdD"
      },
      "execution_count": 20,
      "outputs": []
    },
    {
      "cell_type": "markdown",
      "source": [
        "# Definição da função"
      ],
      "metadata": {
        "id": "1q51t70tVW0C"
      }
    },
    {
      "cell_type": "markdown",
      "source": [
        "**GET:**\n",
        "\n",
        "Envia uma solicitação GET para a API do OpenAI para obter uma resposta.Recebe um prompt como entrada."
      ],
      "metadata": {
        "id": "JCW5BWFFVYY6"
      }
    },
    {
      "cell_type": "code",
      "source": [
        "def get(prompt):\n",
        "\n",
        "  # Prepara os parâmetros para a solicitação GET\n",
        "    data = {\n",
        "        \"model\": \"text-davinci-003\",\n",
        "        \"messages\": [{\"role\": \"system\", \"content\": \"Você é um assistente de bate-papo.\"},\n",
        "                     {\"role\": \"user\", \"content\": prompt}]\n",
        "    }\n",
        "\n",
        "   # Envia a solicitação GET para a API\n",
        "    response = requests.post(url, headers=headers, json=data)\n",
        "    data = response.json()\n",
        "\n",
        "   # Extrai e retorna o conteúdo da primeira escolha\n",
        "    if 'choices' in data:\n",
        "        return data['choices'][0]['message']['content']\n",
        "    else:\n",
        "       # Exibe uma mensagem de erro e retorna None\n",
        "        print(\"Erro na resposta da API:\")\n",
        "        print(data)\n",
        "        return None"
      ],
      "metadata": {
        "id": "On9d6v36SC0k"
      },
      "execution_count": 21,
      "outputs": []
    },
    {
      "cell_type": "markdown",
      "source": [
        "**POST:**\n",
        "\n",
        "Envia uma solicitação POST para a API do OpenAI, recebe um prompt e um log de chat como entrada.\n"
      ],
      "metadata": {
        "id": "-8fib5TeVwCU"
      }
    },
    {
      "cell_type": "code",
      "source": [
        "def post(prompt, chat):\n",
        "\n",
        "   # Prepara o corpo da solicitação POST\n",
        "    data = {\n",
        "        \"model\": \"text-davinci-003\",\n",
        "        \"messages\": [{\"role\": \"system\", \"content\": \"Você é um assistente de bate-papo.\"},\n",
        "                     {\"role\": \"user\", \"content\": prompt}],\n",
        "        \"chat\": chat\n",
        "    }\n",
        "\n",
        "   # Envia a solicitação POST para a API\n",
        "    response = requests.post(url, headers=headers, json=data)\n",
        "    data = response.json()\n",
        "\n",
        "    # Extrai e retorna o conteúdo da primeira escolha\n",
        "    if 'choices' in data:\n",
        "        return data['choices'][0]['message']['content']\n",
        "    else:\n",
        "       # Exibe uma mensagem de erro e retorna None\n",
        "        print(\"Erro na resposta da API:\")\n",
        "        print(data)\n",
        "        return None"
      ],
      "metadata": {
        "id": "frz201sqSFKi"
      },
      "execution_count": 22,
      "outputs": []
    },
    {
      "cell_type": "markdown",
      "source": [
        "**OBS:** As respostas de ambas as funções são convertidas em JSON e, se a resposta contiver um campo 'choices', ela retorna o conteúdo da primeira escolha. Caso contrário, exibe uma mensagem de erro e retorna None."
      ],
      "metadata": {
        "id": "QYjhIKMHWHG0"
      }
    },
    {
      "cell_type": "markdown",
      "source": [
        "# Chamada da função"
      ],
      "metadata": {
        "id": "XxwTkzGsWMwN"
      }
    },
    {
      "cell_type": "code",
      "source": [
        "# Exemplo de uso da função get\n",
        "prompt = \"Olá, seja bem-vindo à explicação em nuvem.\"\n",
        "\n",
        "response = get(prompt)\n",
        "print(response)\n",
        "\n",
        "# Exemplo de uso da função post\n",
        "prompt = \"Qual é o significado da vida?\"\n",
        "\n",
        "chat = [{\"role\": \"system\", \"content\": \"Quais são os principais modelos de rede neural?\"},\n",
        "            {\"role\": \"user\", \"content\": \"Como o PLN impacta a tecnologia atualmente?\"}]\n",
        "\n",
        "response = post(prompt, chat)\n",
        "print(response)"
      ],
      "metadata": {
        "colab": {
          "base_uri": "https://localhost:8080/"
        },
        "id": "XQf6bw1JSGmj",
        "outputId": "e383f188-8ccb-4db9-c1a0-9de42cd18218"
      },
      "execution_count": 23,
      "outputs": [
        {
          "output_type": "stream",
          "name": "stdout",
          "text": [
            "Erro na resposta da API:\n",
            "{'error': {'message': 'You exceeded your current quota, please check your plan and billing details.', 'type': 'insufficient_quota', 'param': None, 'code': None}}\n",
            "None\n",
            "Erro na resposta da API:\n",
            "{'error': {'message': 'You exceeded your current quota, please check your plan and billing details.', 'type': 'insufficient_quota', 'param': None, 'code': None}}\n",
            "None\n"
          ]
        }
      ]
    }
  ]
}